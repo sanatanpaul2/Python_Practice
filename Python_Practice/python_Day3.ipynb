{
 "cells": [
  {
   "cell_type": "code",
   "execution_count": 2,
   "id": "bfb44380",
   "metadata": {},
   "outputs": [
    {
     "name": "stdout",
     "output_type": "stream",
     "text": [
      "enter your name :sana\n",
      "sana\n"
     ]
    }
   ],
   "source": [
    "g= input(\"enter your name :\")\n",
    "print(g)"
   ]
  },
  {
   "cell_type": "code",
   "execution_count": 3,
   "id": "43117d06",
   "metadata": {},
   "outputs": [
    {
     "name": "stdout",
     "output_type": "stream",
     "text": [
      "x = 5\n"
     ]
    }
   ],
   "source": [
    "x  = 5\n",
    "print(\"x =\", x)"
   ]
  },
  {
   "cell_type": "code",
   "execution_count": 5,
   "id": "39dbdb8b",
   "metadata": {},
   "outputs": [
    {
     "name": "stdout",
     "output_type": "stream",
     "text": [
      "g,f,g\n"
     ]
    }
   ],
   "source": [
    "print(\"g\",'f','g', sep = ',')"
   ]
  },
  {
   "cell_type": "code",
   "execution_count": 6,
   "id": "44f7481f",
   "metadata": {},
   "outputs": [
    {
     "name": "stdout",
     "output_type": "stream",
     "text": [
      "Python@GeeksforGeeks\n"
     ]
    }
   ],
   "source": [
    "# using end argument \n",
    "print(\"Python\", end = '@')   \n",
    "print(\"GeeksforGeeks\")  "
   ]
  },
  {
   "cell_type": "code",
   "execution_count": 8,
   "id": "eac9b8ec",
   "metadata": {},
   "outputs": [
    {
     "name": "stdout",
     "output_type": "stream",
     "text": [
      "Python GeeksforGeeks\n"
     ]
    }
   ],
   "source": [
    "# using end argument \n",
    "print(\"Python\", end = ' ')   \n",
    "print(\"GeeksforGeeks\")  "
   ]
  },
  {
   "cell_type": "code",
   "execution_count": 12,
   "id": "c6efcaed",
   "metadata": {},
   "outputs": [
    {
     "name": "stdout",
     "output_type": "stream",
     "text": [
      "sanatan\n",
      "\n",
      " 7\n"
     ]
    }
   ],
   "source": [
    "str = 'sanatan'\n",
    "print(str)\n",
    "print(\"\\n\", len(str))"
   ]
  },
  {
   "cell_type": "code",
   "execution_count": 14,
   "id": "5027cf58",
   "metadata": {},
   "outputs": [
    {
     "name": "stdout",
     "output_type": "stream",
     "text": [
      "<class 'str'>\n",
      "1\n"
     ]
    }
   ],
   "source": [
    "str1 ='a'\n",
    "print(type(str1))\n",
    "print(len(str1))"
   ]
  },
  {
   "cell_type": "code",
   "execution_count": 15,
   "id": "4d73c2a0",
   "metadata": {},
   "outputs": [],
   "source": [
    "str = 'sanatan'"
   ]
  },
  {
   "cell_type": "code",
   "execution_count": 16,
   "id": "12dbbafe",
   "metadata": {},
   "outputs": [
    {
     "ename": "TypeError",
     "evalue": "'str' object does not support item assignment",
     "output_type": "error",
     "traceback": [
      "\u001b[1;31m---------------------------------------------------------------------------\u001b[0m",
      "\u001b[1;31mTypeError\u001b[0m                                 Traceback (most recent call last)",
      "Input \u001b[1;32mIn [16]\u001b[0m, in \u001b[0;36m<cell line: 1>\u001b[1;34m()\u001b[0m\n\u001b[1;32m----> 1\u001b[0m \u001b[38;5;28mstr\u001b[39m[\u001b[38;5;241m2\u001b[39m] \u001b[38;5;241m=\u001b[39m \u001b[38;5;124m'\u001b[39m\u001b[38;5;124mp\u001b[39m\u001b[38;5;124m'\u001b[39m\n\u001b[0;32m      2\u001b[0m \u001b[38;5;28mprint\u001b[39m(\u001b[38;5;28mstr\u001b[39m)\n",
      "\u001b[1;31mTypeError\u001b[0m: 'str' object does not support item assignment"
     ]
    }
   ],
   "source": [
    "str[2] = 'p'\n",
    "print(str)"
   ]
  },
  {
   "cell_type": "code",
   "execution_count": 17,
   "id": "f1737e79",
   "metadata": {},
   "outputs": [
    {
     "ename": "TypeError",
     "evalue": "'str' object doesn't support item deletion",
     "output_type": "error",
     "traceback": [
      "\u001b[1;31m---------------------------------------------------------------------------\u001b[0m",
      "\u001b[1;31mTypeError\u001b[0m                                 Traceback (most recent call last)",
      "Input \u001b[1;32mIn [17]\u001b[0m, in \u001b[0;36m<cell line: 1>\u001b[1;34m()\u001b[0m\n\u001b[1;32m----> 1\u001b[0m \u001b[38;5;28;01mdel\u001b[39;00m \u001b[38;5;28mstr\u001b[39m[\u001b[38;5;241m4\u001b[39m]\n",
      "\u001b[1;31mTypeError\u001b[0m: 'str' object doesn't support item deletion"
     ]
    }
   ],
   "source": [
    "del str[4]"
   ]
  },
  {
   "cell_type": "code",
   "execution_count": 18,
   "id": "2eebcf31",
   "metadata": {},
   "outputs": [
    {
     "name": "stdout",
     "output_type": "stream",
     "text": [
      "slice(None, 3, None)\n"
     ]
    }
   ],
   "source": [
    "str = 'sanatan'\n",
    "s1  = slice(3)\n",
    "print(s1)"
   ]
  },
  {
   "cell_type": "code",
   "execution_count": 20,
   "id": "60e339d0",
   "metadata": {},
   "outputs": [
    {
     "name": "stdout",
     "output_type": "stream",
     "text": [
      "san\n"
     ]
    }
   ],
   "source": [
    "print(str[s1])"
   ]
  },
  {
   "cell_type": "code",
   "execution_count": 21,
   "id": "77b95680",
   "metadata": {},
   "outputs": [
    {
     "name": "stdout",
     "output_type": "stream",
     "text": [
      "aa\n"
     ]
    }
   ],
   "source": [
    "s2 = slice(1,5,2)\n",
    "print(str[s2])"
   ]
  },
  {
   "cell_type": "code",
   "execution_count": 23,
   "id": "b846aa74",
   "metadata": {},
   "outputs": [
    {
     "name": "stdout",
     "output_type": "stream",
     "text": [
      "GEE\n"
     ]
    }
   ],
   "source": [
    "String = 'GEEKSFORGEEKS'\n",
    "print(String[:3])"
   ]
  },
  {
   "cell_type": "code",
   "execution_count": 24,
   "id": "85405d49",
   "metadata": {},
   "outputs": [
    {
     "name": "stdout",
     "output_type": "stream",
     "text": [
      "EK\n"
     ]
    }
   ],
   "source": [
    "# String slicing\n",
    "String = 'GEEKSFORGEEKS'\n",
    " \n",
    "# Using indexing sequence\n",
    "print(String[1:5:2])"
   ]
  },
  {
   "cell_type": "code",
   "execution_count": 25,
   "id": "fc89c887",
   "metadata": {},
   "outputs": [
    {
     "name": "stdout",
     "output_type": "stream",
     "text": [
      "SKEEGROFSKEEG\n"
     ]
    }
   ],
   "source": [
    "# String slicing\n",
    "String = 'GEEKSFORGEEKS'\n",
    " \n",
    "# Prints string in reverse\n",
    "print(String[::-1])"
   ]
  },
  {
   "cell_type": "markdown",
   "id": "e6966d97",
   "metadata": {},
   "source": [
    "## List Slicing"
   ]
  },
  {
   "cell_type": "code",
   "execution_count": 26,
   "id": "413af56e",
   "metadata": {},
   "outputs": [
    {
     "name": "stdout",
     "output_type": "stream",
     "text": [
      "[50, 70, 30, 20, 90, 10, 50]\n"
     ]
    }
   ],
   "source": [
    "# Initialize list\n",
    "Lst = [50, 70, 30, 20, 90, 10, 50]\n",
    "print(Lst[::])"
   ]
  },
  {
   "cell_type": "code",
   "execution_count": 27,
   "id": "20c275dc",
   "metadata": {},
   "outputs": [
    {
     "name": "stdout",
     "output_type": "stream",
     "text": [
      "[50, 70, 30, 20, 90, 10, 50]\n"
     ]
    }
   ],
   "source": [
    "print(Lst[:])"
   ]
  },
  {
   "cell_type": "code",
   "execution_count": 28,
   "id": "a8b70656",
   "metadata": {},
   "outputs": [
    {
     "name": "stdout",
     "output_type": "stream",
     "text": [
      "[50, 70, 30, 20, 90, 10, 50]\n"
     ]
    }
   ],
   "source": [
    "# Initialize list\n",
    "Lst = [50, 70, 30, 20, 90, 10, 50]\n",
    " \n",
    "# Display list\n",
    "print(Lst[-7::1])"
   ]
  },
  {
   "cell_type": "code",
   "execution_count": 29,
   "id": "75470465",
   "metadata": {},
   "outputs": [
    {
     "name": "stdout",
     "output_type": "stream",
     "text": [
      "[1, 3, 5, 7, 9]\n"
     ]
    }
   ],
   "source": [
    "List = [1, 2, 3, 4, 5, 6, 7, 8, 9]\n",
    "print(List[::2])"
   ]
  },
  {
   "cell_type": "code",
   "execution_count": 30,
   "id": "ce754395",
   "metadata": {},
   "outputs": [
    {
     "name": "stdout",
     "output_type": "stream",
     "text": [
      "['geeks !', 4, 'Geeks']\n"
     ]
    }
   ],
   "source": [
    "List = ['Geeks', 4, 'geeks !']\n",
    "print(List[::-1])"
   ]
  },
  {
   "cell_type": "code",
   "execution_count": 31,
   "id": "4c080f29",
   "metadata": {},
   "outputs": [
    {
     "name": "stdout",
     "output_type": "stream",
     "text": [
      "['geeks !']\n"
     ]
    }
   ],
   "source": [
    "print(List[::-3])"
   ]
  },
  {
   "cell_type": "code",
   "execution_count": 32,
   "id": "66bfe73a",
   "metadata": {},
   "outputs": [],
   "source": [
    "List = ['Geeks', 4, 'geeks !']"
   ]
  },
  {
   "cell_type": "code",
   "execution_count": 33,
   "id": "9d3ecb77",
   "metadata": {},
   "outputs": [
    {
     "name": "stdout",
     "output_type": "stream",
     "text": [
      "['geeks !']\n"
     ]
    }
   ],
   "source": [
    "print(List[::-3])"
   ]
  },
  {
   "cell_type": "code",
   "execution_count": 34,
   "id": "6cc3f03f",
   "metadata": {},
   "outputs": [
    {
     "name": "stdout",
     "output_type": "stream",
     "text": [
      "[]\n"
     ]
    }
   ],
   "source": [
    "List = [-999, 'G4G', 1706256, '^_^', 3.1496]\n",
    "print(List[1:1:1])\n"
   ]
  },
  {
   "cell_type": "code",
   "execution_count": 35,
   "id": "24d3c46f",
   "metadata": {},
   "outputs": [
    {
     "name": "stdout",
     "output_type": "stream",
     "text": [
      "[]\n"
     ]
    }
   ],
   "source": [
    "print(List[-1:-1:-1])"
   ]
  },
  {
   "cell_type": "code",
   "execution_count": 36,
   "id": "73e4474d",
   "metadata": {},
   "outputs": [
    {
     "name": "stdout",
     "output_type": "stream",
     "text": [
      "[]\n"
     ]
    }
   ],
   "source": [
    "print(List[:0:])"
   ]
  },
  {
   "cell_type": "code",
   "execution_count": 37,
   "id": "b12060ab",
   "metadata": {},
   "outputs": [],
   "source": [
    "# Initialize list\n",
    "List = [-999, 'G4G', 1706256, 3.1496, '^_^']"
   ]
  },
  {
   "cell_type": "code",
   "execution_count": 40,
   "id": "c7e3b4d7",
   "metadata": {},
   "outputs": [
    {
     "name": "stdout",
     "output_type": "stream",
     "text": [
      "['Geeks', 'for']\n"
     ]
    }
   ],
   "source": [
    "print(List[2:4])"
   ]
  },
  {
   "cell_type": "code",
   "execution_count": 38,
   "id": "4688500b",
   "metadata": {},
   "outputs": [],
   "source": [
    "List[2:4] = ['Geeks', 'for', 'Geeks', '!']"
   ]
  },
  {
   "cell_type": "code",
   "execution_count": 39,
   "id": "73311ebe",
   "metadata": {},
   "outputs": [
    {
     "name": "stdout",
     "output_type": "stream",
     "text": [
      "[-999, 'G4G', 'Geeks', 'for', 'Geeks', '!', '^_^']\n"
     ]
    }
   ],
   "source": [
    "print(List)"
   ]
  },
  {
   "cell_type": "code",
   "execution_count": 41,
   "id": "b2c0d22d",
   "metadata": {},
   "outputs": [
    {
     "name": "stdout",
     "output_type": "stream",
     "text": [
      "['^_^']\n"
     ]
    }
   ],
   "source": [
    "List[:6] = []\n",
    "print(List)"
   ]
  },
  {
   "cell_type": "code",
   "execution_count": 42,
   "id": "961a9a2c",
   "metadata": {},
   "outputs": [],
   "source": [
    "List = [1, 2, 3, 4, 5, 6, 7, 8, 9]"
   ]
  },
  {
   "cell_type": "code",
   "execution_count": 43,
   "id": "05b2a810",
   "metadata": {},
   "outputs": [
    {
     "name": "stdout",
     "output_type": "stream",
     "text": [
      "[1, 2, 3, 8, 9]\n"
     ]
    }
   ],
   "source": [
    "# Creating new List\n",
    "newList = List[:3]+List[7:]\n",
    "print(newList)"
   ]
  },
  {
   "cell_type": "code",
   "execution_count": 44,
   "id": "6e072a22",
   "metadata": {},
   "outputs": [],
   "source": [
    "List = List[::2]+List[1::2]"
   ]
  },
  {
   "cell_type": "code",
   "execution_count": 45,
   "id": "3314cf01",
   "metadata": {},
   "outputs": [
    {
     "name": "stdout",
     "output_type": "stream",
     "text": [
      "[1, 3, 5, 7, 9, 2, 4, 6, 8]\n"
     ]
    }
   ],
   "source": [
    "print(List)"
   ]
  },
  {
   "cell_type": "code",
   "execution_count": null,
   "id": "592f9eee",
   "metadata": {},
   "outputs": [],
   "source": []
  }
 ],
 "metadata": {
  "kernelspec": {
   "display_name": "Python 3 (ipykernel)",
   "language": "python",
   "name": "python3"
  },
  "language_info": {
   "codemirror_mode": {
    "name": "ipython",
    "version": 3
   },
   "file_extension": ".py",
   "mimetype": "text/x-python",
   "name": "python",
   "nbconvert_exporter": "python",
   "pygments_lexer": "ipython3",
   "version": "3.10.5"
  }
 },
 "nbformat": 4,
 "nbformat_minor": 5
}
