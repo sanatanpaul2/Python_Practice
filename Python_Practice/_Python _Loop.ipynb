{
 "cells": [
  {
   "cell_type": "code",
   "execution_count": 1,
   "id": "cff741ec",
   "metadata": {},
   "outputs": [],
   "source": [
    "# while loop "
   ]
  },
  {
   "cell_type": "code",
   "execution_count": 2,
   "id": "15ca9cf1",
   "metadata": {},
   "outputs": [
    {
     "name": "stdout",
     "output_type": "stream",
     "text": [
      "current letter : s\n",
      "current letter : a\n"
     ]
    }
   ],
   "source": [
    "i = 0\n",
    "a = 'sanatan'\n",
    "while(i<len(a)):\n",
    "    if a[i] == 'n' or a[i] == 't':\n",
    "        i = i + 1\n",
    "        break\n",
    "     \n",
    "    print('current letter :', a[i])\n",
    "    i = i + 1"
   ]
  },
  {
   "cell_type": "code",
   "execution_count": 3,
   "id": "e3d62779",
   "metadata": {},
   "outputs": [
    {
     "name": "stdout",
     "output_type": "stream",
     "text": [
      "value of i: 7\n"
     ]
    }
   ],
   "source": [
    "a  = 'sanatan'\n",
    "i = 0\n",
    "while(i<len(a)):\n",
    "    i += 1\n",
    "    pass\n",
    "print('value of i:',i)"
   ]
  },
  {
   "cell_type": "markdown",
   "id": "edb13f5a",
   "metadata": {},
   "source": [
    "##  while - Else"
   ]
  },
  {
   "cell_type": "code",
   "execution_count": 5,
   "id": "f60441d2",
   "metadata": {},
   "outputs": [
    {
     "name": "stdout",
     "output_type": "stream",
     "text": [
      "1\n",
      "2\n",
      "3\n",
      "4\n",
      "no break\n",
      "\n"
     ]
    }
   ],
   "source": [
    "i = 0\n",
    "while i < 4:\n",
    "    i = i + 1\n",
    "    print(i)\n",
    "else:\n",
    "    print('no break\\n')"
   ]
  },
  {
   "cell_type": "code",
   "execution_count": 6,
   "id": "82e4283c",
   "metadata": {},
   "outputs": [
    {
     "name": "stdout",
     "output_type": "stream",
     "text": [
      "1\n"
     ]
    }
   ],
   "source": [
    "i = 0\n",
    "while i < 4:\n",
    "    i += 1\n",
    "    print(i)\n",
    "    break\n",
    "else:  # Not executed as there is a break\n",
    "    print(\"No Break\")"
   ]
  },
  {
   "cell_type": "code",
   "execution_count": 7,
   "id": "f7ae6195",
   "metadata": {},
   "outputs": [
    {
     "name": "stdout",
     "output_type": "stream",
     "text": [
      "g\n",
      "e\n",
      "Out of for loop\n",
      "\n"
     ]
    }
   ],
   "source": [
    "s = 'geeksforgeeks'\n",
    "# Using for loop\n",
    "for letter in s:\n",
    "  \n",
    "    print(letter)\n",
    "    # break the loop as soon it sees 'e'\n",
    "    # or 's'\n",
    "    if letter == 'e' or letter == 's':\n",
    "        break\n",
    "  \n",
    "print(\"Out of for loop\"    )\n",
    "print()"
   ]
  },
  {
   "cell_type": "code",
   "execution_count": 8,
   "id": "49d2d7b8",
   "metadata": {},
   "outputs": [
    {
     "name": "stdout",
     "output_type": "stream",
     "text": [
      "1 2 3 4 5 7 8 9 10 "
     ]
    }
   ],
   "source": [
    "# loop from 1 to 10\n",
    "for i in range(1, 11):\n",
    " \n",
    "    # If i is equals to 6,\n",
    "    # continue to next iteration\n",
    "    # without printing\n",
    "    if i == 6:\n",
    "        continue\n",
    "    else:\n",
    "        # otherwise print the value\n",
    "        # of i\n",
    "        print(i, end=\" \")"
   ]
  },
  {
   "cell_type": "code",
   "execution_count": 10,
   "id": "893ddfee",
   "metadata": {},
   "outputs": [
    {
     "name": "stdout",
     "output_type": "stream",
     "text": [
      "b\n",
      "c\n",
      "d\n"
     ]
    }
   ],
   "source": [
    "li = ['a','b','c','d']\n",
    "for i in li:\n",
    "        if(i == 'a'):\n",
    "            pass\n",
    "        else:\n",
    "            print(i)\n",
    "       "
   ]
  },
  {
   "cell_type": "markdown",
   "id": "07206445",
   "metadata": {},
   "source": [
    "## Enumerate function"
   ]
  },
  {
   "cell_type": "raw",
   "id": "45518741",
   "metadata": {},
   "source": [
    "# enumerate function\n",
    "#enumerate() is used to loop through the containers printing\n",
    "the index number along with the value present in that particular index."
   ]
  },
  {
   "cell_type": "code",
   "execution_count": 11,
   "id": "a0ac22f9",
   "metadata": {},
   "outputs": [
    {
     "name": "stdout",
     "output_type": "stream",
     "text": [
      "0 the\n",
      "1 big\n",
      "2 bang\n",
      "3 theory\n"
     ]
    }
   ],
   "source": [
    "for key,value in enumerate(['the','big','bang','theory']):\n",
    "    print(key,value)"
   ]
  },
  {
   "cell_type": "code",
   "execution_count": 12,
   "id": "0ec3f3b4",
   "metadata": {},
   "outputs": [
    {
     "name": "stdout",
     "output_type": "stream",
     "text": [
      "Geeks for Geeks is the Best Coding Platform "
     ]
    }
   ],
   "source": [
    "for key, value in enumerate(['Geeks', 'for', 'Geeks',\n",
    "                             'is', 'the', 'Best',\n",
    "                             'Coding', 'Platform']):\n",
    "    print(value, end=' ')"
   ]
  },
  {
   "cell_type": "code",
   "execution_count": 13,
   "id": "a6fb5738",
   "metadata": {},
   "outputs": [
    {
     "name": "stdout",
     "output_type": "stream",
     "text": [
      "name sana\n",
      "title paul\n"
     ]
    }
   ],
   "source": [
    "d = {'name':'sana','title':'paul'}\n",
    "for i,j in d.items():\n",
    "    print(i,j)\n",
    "    "
   ]
  },
  {
   "cell_type": "code",
   "execution_count": 14,
   "id": "f3840cea",
   "metadata": {},
   "outputs": [
    {
     "name": "stdout",
     "output_type": "stream",
     "text": [
      "Akbar The Great\n",
      "Chandragupta The Maurya\n",
      "Modi The Changer\n"
     ]
    }
   ],
   "source": [
    "# python code to demonstrate working of items()\n",
    " \n",
    "king = {'Akbar': 'The Great', 'Chandragupta': 'The Maurya',\n",
    "        'Modi': 'The Changer'}\n",
    " \n",
    "# using items to print the dictionary key-value pair\n",
    "for key, value in king.items():\n",
    "    print(key, value)"
   ]
  },
  {
   "cell_type": "code",
   "execution_count": 15,
   "id": "d22c68e7",
   "metadata": {},
   "outputs": [
    {
     "name": "stdout",
     "output_type": "stream",
     "text": [
      "The list in sorted order is : \n",
      "1 1 2 3 3 5 6 "
     ]
    }
   ],
   "source": [
    "# initializing list\n",
    "lis = [1, 3, 5, 6, 2, 1, 3]\n",
    " \n",
    "# using sorted() to print the list in sorted order\n",
    "print(\"The list in sorted order is : \")\n",
    "for i in sorted(lis):\n",
    "    print(i, end=\" \")"
   ]
  },
  {
   "cell_type": "code",
   "execution_count": 16,
   "id": "971bbe3c",
   "metadata": {},
   "outputs": [
    {
     "name": "stdout",
     "output_type": "stream",
     "text": [
      "The list in sorted order (without duplicates) is : \n",
      "1 2 3 5 6 "
     ]
    }
   ],
   "source": [
    "# using sorted() and set() to print the list in sorted order\n",
    "# use of set() removes duplicates.\n",
    "print(\"The list in sorted order (without duplicates) is : \")\n",
    "for i in sorted(set(lis)):\n",
    "    print(i, end=\" \")"
   ]
  },
  {
   "cell_type": "code",
   "execution_count": 17,
   "id": "0442c014",
   "metadata": {},
   "outputs": [
    {
     "name": "stdout",
     "output_type": "stream",
     "text": [
      "The list in reversed order is : \n",
      "3 1 2 6 5 3 1 "
     ]
    }
   ],
   "source": [
    "# python code to demonstrate working of reversed()\n",
    " \n",
    "# initializing list\n",
    "lis = [1, 3, 5, 6, 2, 1, 3]\n",
    " \n",
    " \n",
    "# using reversed() to print the list in reversed order\n",
    "print(\"The list in reversed order is : \")\n",
    "for i in reversed(lis):\n",
    "    print(i, end=\" \")"
   ]
  },
  {
   "cell_type": "code",
   "execution_count": 18,
   "id": "f5374e19",
   "metadata": {},
   "outputs": [
    {
     "name": "stdout",
     "output_type": "stream",
     "text": [
      "7\n",
      "4\n",
      "1\n"
     ]
    }
   ],
   "source": [
    "for i in reversed(range(1,10,3)):\n",
    "    print(i)"
   ]
  },
  {
   "cell_type": "code",
   "execution_count": null,
   "id": "7c65230c",
   "metadata": {},
   "outputs": [],
   "source": []
  }
 ],
 "metadata": {
  "kernelspec": {
   "display_name": "Python 3 (ipykernel)",
   "language": "python",
   "name": "python3"
  },
  "language_info": {
   "codemirror_mode": {
    "name": "ipython",
    "version": 3
   },
   "file_extension": ".py",
   "mimetype": "text/x-python",
   "name": "python",
   "nbconvert_exporter": "python",
   "pygments_lexer": "ipython3",
   "version": "3.10.5"
  }
 },
 "nbformat": 4,
 "nbformat_minor": 5
}
